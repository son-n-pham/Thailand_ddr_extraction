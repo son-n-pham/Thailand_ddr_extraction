{
 "cells": [
  {
   "cell_type": "code",
   "execution_count": 1,
   "metadata": {},
   "outputs": [
    {
     "name": "stdout",
     "output_type": "stream",
     "text": [
      "Requirement already satisfied: pandas in c:\\users\\user\\miniconda3\\lib\\site-packages (1.5.3)\n",
      "Requirement already satisfied: python-dateutil>=2.8.1 in c:\\users\\user\\miniconda3\\lib\\site-packages (from pandas) (2.8.2)\n",
      "Requirement already satisfied: pytz>=2020.1 in c:\\users\\user\\miniconda3\\lib\\site-packages (from pandas) (2022.7)\n",
      "Requirement already satisfied: numpy>=1.21.0 in c:\\users\\user\\miniconda3\\lib\\site-packages (from pandas) (1.23.5)\n",
      "Requirement already satisfied: six>=1.5 in c:\\users\\user\\miniconda3\\lib\\site-packages (from python-dateutil>=2.8.1->pandas) (1.12.0)\n",
      "Note: you may need to restart the kernel to use updated packages.\n"
     ]
    }
   ],
   "source": [
    "%pip install pandas"
   ]
  },
  {
   "cell_type": "code",
   "execution_count": 8,
   "metadata": {},
   "outputs": [
    {
     "name": "stdout",
     "output_type": "stream",
     "text": [
      "    A   B   C               D               E               F\n",
      "0  10  11  12             NaN                  it is a value1\n",
      "1  20  22  23                             NaN             NaN\n",
      "2  30  33  34             NaN  it is a value1  it is a value1\n",
      "3  40  44  45                             NaN  it is a value1\n",
      "4  50  55  56  it is a value1                                \n",
      "5  60  66  67                             NaN             NaN\n",
      "    A   B   C               D               E               F\n",
      "0  10  11  12             NaN                  it is a value2\n",
      "1  20  32  23                             NaN             NaN\n",
      "2  30  33  34             NaN  it is a value2  it is a value2\n",
      "3  50  44  45                             NaN  it is a value2\n",
      "4  50  55  56  it is a value2                                \n",
      "5  60  66  77                             NaN             NaN\n"
     ]
    }
   ],
   "source": [
    "import pandas as pd\n",
    "import numpy as np\n",
    "\n",
    "df1 = {'A': [10, 20, 30, 40, 50, 60],\n",
    "        'B': [11, 22, 33, 44, 55, 66],\n",
    "        'C': [12, 23, 34, 45, 56, 67],\n",
    "        'D': [np.nan, '', np.nan, '', \"it is a value1\", ''],\n",
    "        'E': ['', np.nan, \"it is a value1\", np.nan, '', np.nan],\n",
    "        'F': [\"it is a value1\", np.nan, \"it is a value1\", \"it is a value1\", '', np.nan]}\n",
    "df1 = pd.DataFrame(df1)\n",
    "\n",
    "df2 = {'A': [10, 20, 30, 50, 50, 60],\n",
    "        'B': [11, 32, 33, 44, 55, 66],\n",
    "        'C': [12, 23, 34, 45, 56, 77],\n",
    "        'D': [np.nan, '', np.nan, '', \"it is a value2\", ''],\n",
    "        'E': ['', np.nan, \"it is a value2\", np.nan, '', np.nan],\n",
    "        'F': [\"it is a value2\", np.nan, \"it is a value2\", \"it is a value2\", '', np.nan]}\n",
    "df2 = pd.DataFrame(df2)\n",
    "\n",
    "print(df1)\n",
    "print(df2)"
   ]
  },
  {
   "cell_type": "code",
   "execution_count": 11,
   "metadata": {},
   "outputs": [
    {
     "data": {
      "text/html": [
       "<div>\n",
       "<style scoped>\n",
       "    .dataframe tbody tr th:only-of-type {\n",
       "        vertical-align: middle;\n",
       "    }\n",
       "\n",
       "    .dataframe tbody tr th {\n",
       "        vertical-align: top;\n",
       "    }\n",
       "\n",
       "    .dataframe thead th {\n",
       "        text-align: right;\n",
       "    }\n",
       "</style>\n",
       "<table border=\"1\" class=\"dataframe\">\n",
       "  <thead>\n",
       "    <tr style=\"text-align: right;\">\n",
       "      <th></th>\n",
       "      <th>A</th>\n",
       "      <th>B</th>\n",
       "      <th>C</th>\n",
       "      <th>D</th>\n",
       "      <th>E</th>\n",
       "      <th>F</th>\n",
       "    </tr>\n",
       "  </thead>\n",
       "  <tbody>\n",
       "    <tr>\n",
       "      <th>0</th>\n",
       "      <td>10</td>\n",
       "      <td>11</td>\n",
       "      <td>12</td>\n",
       "      <td></td>\n",
       "      <td></td>\n",
       "      <td>it is a value2</td>\n",
       "    </tr>\n",
       "    <tr>\n",
       "      <th>1</th>\n",
       "      <td>20</td>\n",
       "      <td>22</td>\n",
       "      <td>23</td>\n",
       "      <td></td>\n",
       "      <td></td>\n",
       "      <td></td>\n",
       "    </tr>\n",
       "    <tr>\n",
       "      <th>2</th>\n",
       "      <td>20</td>\n",
       "      <td>32</td>\n",
       "      <td>23</td>\n",
       "      <td></td>\n",
       "      <td></td>\n",
       "      <td></td>\n",
       "    </tr>\n",
       "    <tr>\n",
       "      <th>3</th>\n",
       "      <td>30</td>\n",
       "      <td>33</td>\n",
       "      <td>34</td>\n",
       "      <td></td>\n",
       "      <td>it is a value2</td>\n",
       "      <td>it is a value2</td>\n",
       "    </tr>\n",
       "    <tr>\n",
       "      <th>4</th>\n",
       "      <td>40</td>\n",
       "      <td>44</td>\n",
       "      <td>45</td>\n",
       "      <td></td>\n",
       "      <td></td>\n",
       "      <td>it is a value1</td>\n",
       "    </tr>\n",
       "    <tr>\n",
       "      <th>5</th>\n",
       "      <td>50</td>\n",
       "      <td>44</td>\n",
       "      <td>45</td>\n",
       "      <td></td>\n",
       "      <td></td>\n",
       "      <td>it is a value2</td>\n",
       "    </tr>\n",
       "    <tr>\n",
       "      <th>6</th>\n",
       "      <td>50</td>\n",
       "      <td>55</td>\n",
       "      <td>56</td>\n",
       "      <td>it is a value2</td>\n",
       "      <td></td>\n",
       "      <td></td>\n",
       "    </tr>\n",
       "    <tr>\n",
       "      <th>7</th>\n",
       "      <td>60</td>\n",
       "      <td>66</td>\n",
       "      <td>67</td>\n",
       "      <td></td>\n",
       "      <td></td>\n",
       "      <td></td>\n",
       "    </tr>\n",
       "    <tr>\n",
       "      <th>8</th>\n",
       "      <td>60</td>\n",
       "      <td>66</td>\n",
       "      <td>77</td>\n",
       "      <td></td>\n",
       "      <td></td>\n",
       "      <td></td>\n",
       "    </tr>\n",
       "  </tbody>\n",
       "</table>\n",
       "</div>"
      ],
      "text/plain": [
       "    A   B   C               D               E               F\n",
       "0  10  11  12                                  it is a value2\n",
       "1  20  22  23                                                \n",
       "2  20  32  23                                                \n",
       "3  30  33  34                  it is a value2  it is a value2\n",
       "4  40  44  45                                  it is a value1\n",
       "5  50  44  45                                  it is a value2\n",
       "6  50  55  56  it is a value2                                \n",
       "7  60  66  67                                                \n",
       "8  60  66  77                                                "
      ]
     },
     "execution_count": 11,
     "metadata": {},
     "output_type": "execute_result"
    }
   ],
   "source": [
    "def append_dataframes(df1, df2):\n",
    "    df = pd.concat([df1, df2])\n",
    "    df = df.groupby(['A', 'B', 'C']).agg(lambda x: x[x.notnull()].iloc[0] if x.notnull().any() else '').reset_index()\n",
    "    return df\n",
    "\n",
    "df = append_dataframes(df2, df1)\n",
    "df"
   ]
  },
  {
   "cell_type": "code",
   "execution_count": 12,
   "metadata": {},
   "outputs": [
    {
     "ename": "NameError",
     "evalue": "name 'df3' is not defined",
     "output_type": "error",
     "traceback": [
      "\u001b[1;31m---------------------------------------------------------------------------\u001b[0m",
      "\u001b[1;31mNameError\u001b[0m                                 Traceback (most recent call last)",
      "Cell \u001b[1;32mIn[12], line 1\u001b[0m\n\u001b[1;32m----> 1\u001b[0m df3\n",
      "\u001b[1;31mNameError\u001b[0m: name 'df3' is not defined"
     ]
    }
   ],
   "source": [
    "df3"
   ]
  },
  {
   "attachments": {},
   "cell_type": "markdown",
   "metadata": {},
   "source": [
    "df1 = {'A': [10, 20, 30, 40, 50, 60],\n",
    "        'B': [11, 22, 33, 44, 55, 66],\n",
    "        'C': [12, 23, 34, 45, 56, 67],\n",
    "        'D': [np.nan, '', np.nan, '', \"it is a value\", ''],\n",
    "        'E': ['', np.nan, \"it is a value\", np.nan, '', np.nan],\n",
    "        'F': [\"it is a value\", np.nan, \"it is a value\", \"it is a value, '', np.nan}\n",
    "\n",
    "\n",
    "df2 = {'A': [10, 20, 30, 50, 50, 60],\n",
    "        'B': [11, 32, 33, 44, 55, 66],\n",
    "        'C': [12, 23, 34, 45, 56, 77],\n",
    "        'D': [np.nan, '', np.nan, '', \"it is a value\", ''],\n",
    "        'E': ['', np.nan, \"it is a value\", np.nan, '', np.nan],\n",
    "        'F': [\"it is a value\", np.nan, \"it is a value\", \"it is a value, '', np.nan}\n",
    "\n",
    "I have the above 2 dataframes. I want to append them on top each other, df1.append(df2). \n",
    "\n",
    "If values in columns A, B and C are the same when appending, at each cell in column D, E, F of each row, value differnt from '' or np.nan will be the value of that cell.\n",
    "\n",
    "If values in columns A, B and C are the same when appending, at each cell in column D, E, F of each row and if both values at each cell in df1 and df2 are different from '' and np.nan, value in that cell will be the value in df2.\n",
    "If values in columns A, B and C are the same when appending, at each cell in column D, E, F of each row and if both values at each cell in df1 and df2 are either '' and np.nan, value in that cell will be the value in df2.\n",
    "\n",
    "Write a python function to do that append."
   ]
  },
  {
   "cell_type": "markdown",
   "metadata": {},
   "source": []
  }
 ],
 "metadata": {
  "kernelspec": {
   "display_name": "Python 3",
   "language": "python",
   "name": "python3"
  },
  "language_info": {
   "codemirror_mode": {
    "name": "ipython",
    "version": 3
   },
   "file_extension": ".py",
   "mimetype": "text/x-python",
   "name": "python",
   "nbconvert_exporter": "python",
   "pygments_lexer": "ipython3",
   "version": "3.10.5"
  },
  "orig_nbformat": 4
 },
 "nbformat": 4,
 "nbformat_minor": 2
}
