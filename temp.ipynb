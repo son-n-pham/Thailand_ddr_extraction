{
 "cells": [
  {
   "cell_type": "code",
   "execution_count": 1,
   "metadata": {},
   "outputs": [
    {
     "name": "stdout",
     "output_type": "stream",
     "text": [
      "Collecting pandas\n",
      "  Using cached pandas-2.0.0-cp310-cp310-win_amd64.whl (11.2 MB)\n",
      "Requirement already satisfied: tzdata>=2022.1 in c:\\python310\\lib\\site-packages (from pandas) (2023.3)\n",
      "Requirement already satisfied: python-dateutil>=2.8.2 in c:\\python310\\lib\\site-packages (from pandas) (2.8.2)\n",
      "Requirement already satisfied: numpy>=1.21.0 in c:\\python310\\lib\\site-packages (from pandas) (1.24.2)\n",
      "Requirement already satisfied: pytz>=2020.1 in c:\\python310\\lib\\site-packages (from pandas) (2023.3)\n",
      "Requirement already satisfied: six>=1.5 in c:\\python310\\lib\\site-packages (from python-dateutil>=2.8.2->pandas) (1.16.0)\n",
      "Installing collected packages: pandas\n",
      "Successfully installed pandas-2.0.0\n",
      "Note: you may need to restart the kernel to use updated packages.\n"
     ]
    },
    {
     "name": "stderr",
     "output_type": "stream",
     "text": [
      "WARNING: Ignoring invalid distribution -p (c:\\python310\\lib\\site-packages)\n",
      "WARNING: Ignoring invalid distribution -p (c:\\python310\\lib\\site-packages)\n",
      "WARNING: Ignoring invalid distribution -ip (c:\\python310\\lib\\site-packages)\n",
      "WARNING: Ignoring invalid distribution - (c:\\python310\\lib\\site-packages)\n",
      "WARNING: Ignoring invalid distribution -p (c:\\python310\\lib\\site-packages)\n",
      "WARNING: Ignoring invalid distribution -p (c:\\python310\\lib\\site-packages)\n",
      "WARNING: Ignoring invalid distribution -ip (c:\\python310\\lib\\site-packages)\n",
      "WARNING: Ignoring invalid distribution - (c:\\python310\\lib\\site-packages)\n",
      "WARNING: Ignoring invalid distribution -p (c:\\python310\\lib\\site-packages)\n",
      "WARNING: Ignoring invalid distribution -p (c:\\python310\\lib\\site-packages)\n",
      "WARNING: Ignoring invalid distribution -ip (c:\\python310\\lib\\site-packages)\n",
      "WARNING: Ignoring invalid distribution - (c:\\python310\\lib\\site-packages)\n",
      "WARNING: Ignoring invalid distribution -p (c:\\python310\\lib\\site-packages)\n",
      "WARNING: Ignoring invalid distribution -p (c:\\python310\\lib\\site-packages)\n",
      "WARNING: Ignoring invalid distribution -ip (c:\\python310\\lib\\site-packages)\n",
      "WARNING: Ignoring invalid distribution - (c:\\python310\\lib\\site-packages)\n",
      "WARNING: Ignoring invalid distribution -p (c:\\python310\\lib\\site-packages)\n",
      "WARNING: Ignoring invalid distribution -p (c:\\python310\\lib\\site-packages)\n",
      "WARNING: Ignoring invalid distribution -ip (c:\\python310\\lib\\site-packages)\n",
      "WARNING: Ignoring invalid distribution - (c:\\python310\\lib\\site-packages)\n",
      "WARNING: Ignoring invalid distribution -p (c:\\python310\\lib\\site-packages)\n",
      "WARNING: Ignoring invalid distribution -p (c:\\python310\\lib\\site-packages)\n",
      "WARNING: Ignoring invalid distribution -ip (c:\\python310\\lib\\site-packages)\n",
      "WARNING: Ignoring invalid distribution - (c:\\python310\\lib\\site-packages)\n",
      "WARNING: Ignoring invalid distribution -p (c:\\python310\\lib\\site-packages)\n",
      "WARNING: Ignoring invalid distribution -p (c:\\python310\\lib\\site-packages)\n",
      "WARNING: Ignoring invalid distribution -ip (c:\\python310\\lib\\site-packages)\n",
      "WARNING: Ignoring invalid distribution - (c:\\python310\\lib\\site-packages)\n",
      "WARNING: You are using pip version 22.0.4; however, version 23.0.1 is available.\n",
      "You should consider upgrading via the 'c:\\Python310\\python.exe -m pip install --upgrade pip' command.\n"
     ]
    }
   ],
   "source": [
    "%pip install pandas"
   ]
  },
  {
   "cell_type": "code",
   "execution_count": 2,
   "metadata": {},
   "outputs": [
    {
     "ename": "ModuleNotFoundError",
     "evalue": "No module named 'pandas'",
     "output_type": "error",
     "traceback": [
      "\u001b[1;31m---------------------------------------------------------------------------\u001b[0m",
      "\u001b[1;31mModuleNotFoundError\u001b[0m                       Traceback (most recent call last)",
      "Cell \u001b[1;32mIn[2], line 1\u001b[0m\n\u001b[1;32m----> 1\u001b[0m \u001b[39mimport\u001b[39;00m \u001b[39mpandas\u001b[39;00m\n",
      "\u001b[1;31mModuleNotFoundError\u001b[0m: No module named 'pandas'"
     ]
    }
   ],
   "source": [
    "import pandas"
   ]
  },
  {
   "cell_type": "code",
   "execution_count": null,
   "metadata": {},
   "outputs": [],
   "source": [
    "import pandas as pd\n",
    "import numpy as np\n",
    "\n",
    "df1 = {'A': [10, 20, 30, 40, 50, 60],\n",
    "        'B': [11, 22, 33, 44, 55, 66],\n",
    "        'C': [12, 23, 34, 45, 56, 67],\n",
    "        'D': [np.nan, '', np.nan, '', \"it is a value\", ''],\n",
    "        'E': ['', np.nan, \"it is a value\", np.nan, '', np.nan],\n",
    "        'F': [\"it is a value\", np.nan, \"it is a value\", \"it is a value\", '', np.nan]}\n",
    "\n",
    "\n",
    "df2 = {'A': [10, 20, 30, 50, 50, 60],\n",
    "        'B': [11, 32, 33, 44, 55, 66],\n",
    "        'C': [12, 23, 34, 45, 56, 77],\n",
    "        'D': [np.nan, '', np.nan, '', \"it is a value\", ''],\n",
    "        'E': ['', np.nan, \"it is a value\", np.nan, '', np.nan],\n",
    "        'F': [\"it is a value\", np.nan, \"it is a value\", \"it is a value\", '', np.nan]}"
   ]
  },
  {
   "cell_type": "code",
   "execution_count": null,
   "metadata": {},
   "outputs": [],
   "source": [
    "def append_dataframes(df1, df2):\n",
    "    df = df1.append(df2)\n",
    "    df = df.groupby(['A', 'B', 'C']).agg(lambda x: x[x.notnull()].iloc[0] if x.notnull().any() else '').reset_index()\n",
    "    return df"
   ]
  },
  {
   "attachments": {},
   "cell_type": "markdown",
   "metadata": {},
   "source": [
    "df1 = {'A': [10, 20, 30, 40, 50, 60],\n",
    "        'B': [11, 22, 33, 44, 55, 66],\n",
    "        'C': [12, 23, 34, 45, 56, 67],\n",
    "        'D': [np.nan, '', np.nan, '', \"it is a value\", ''],\n",
    "        'E': ['', np.nan, \"it is a value\", np.nan, '', np.nan],\n",
    "        'F': [\"it is a value\", np.nan, \"it is a value\", \"it is a value, '', np.nan}\n",
    "\n",
    "\n",
    "df2 = {'A': [10, 20, 30, 50, 50, 60],\n",
    "        'B': [11, 32, 33, 44, 55, 66],\n",
    "        'C': [12, 23, 34, 45, 56, 77],\n",
    "        'D': [np.nan, '', np.nan, '', \"it is a value\", ''],\n",
    "        'E': ['', np.nan, \"it is a value\", np.nan, '', np.nan],\n",
    "        'F': [\"it is a value\", np.nan, \"it is a value\", \"it is a value, '', np.nan}\n",
    "\n",
    "I have the above 2 dataframes. I want to append them on top each other, df1.append(df2). \n",
    "\n",
    "If values in columns A, B and C are the same when appending, at each cell in column D, E, F of each row, value differnt from '' or np.nan will be the value of that cell.\n",
    "\n",
    "If values in columns A, B and C are the same when appending, at each cell in column D, E, F of each row and if both values at each cell in df1 and df2 are different from '' and np.nan, value in that cell will be the value in df2.\n",
    "If values in columns A, B and C are the same when appending, at each cell in column D, E, F of each row and if both values at each cell in df1 and df2 are either '' and np.nan, value in that cell will be the value in df2.\n",
    "\n",
    "Write a python function to do that append."
   ]
  },
  {
   "cell_type": "markdown",
   "metadata": {},
   "source": []
  }
 ],
 "metadata": {
  "kernelspec": {
   "display_name": "Python 3",
   "language": "python",
   "name": "python3"
  },
  "language_info": {
   "codemirror_mode": {
    "name": "ipython",
    "version": 3
   },
   "file_extension": ".py",
   "mimetype": "text/x-python",
   "name": "python",
   "nbconvert_exporter": "python",
   "pygments_lexer": "ipython3",
   "version": "3.10.5"
  },
  "orig_nbformat": 4
 },
 "nbformat": 4,
 "nbformat_minor": 2
}
